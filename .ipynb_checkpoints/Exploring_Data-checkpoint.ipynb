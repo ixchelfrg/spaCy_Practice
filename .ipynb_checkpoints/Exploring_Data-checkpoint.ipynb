{
 "cells": [
  {
   "cell_type": "markdown",
   "metadata": {},
   "source": [
    "#### Libraries"
   ]
  },
  {
   "cell_type": "code",
   "execution_count": 16,
   "metadata": {},
   "outputs": [],
   "source": [
    "# imports\n",
    "import numpy as np\n",
    "import pandas as pd\n",
    "import spacy\n",
    "# loading English language default model\n",
    "nlp = spacy.load('en_core_web_sm')"
   ]
  },
  {
   "cell_type": "code",
   "execution_count": 37,
   "metadata": {},
   "outputs": [
    {
     "name": "stdout",
     "output_type": "stream",
     "text": [
      "1403 Rows & 18 Columns\n"
     ]
    },
    {
     "data": {
      "text/html": [
       "<div>\n",
       "<style scoped>\n",
       "    .dataframe tbody tr th:only-of-type {\n",
       "        vertical-align: middle;\n",
       "    }\n",
       "\n",
       "    .dataframe tbody tr th {\n",
       "        vertical-align: top;\n",
       "    }\n",
       "\n",
       "    .dataframe thead th {\n",
       "        text-align: right;\n",
       "    }\n",
       "</style>\n",
       "<table border=\"1\" class=\"dataframe\">\n",
       "  <thead>\n",
       "    <tr style=\"text-align: right;\">\n",
       "      <th></th>\n",
       "      <th>Unnamed: 0</th>\n",
       "      <th>index</th>\n",
       "      <th>author</th>\n",
       "      <th>created_utc</th>\n",
       "      <th>id</th>\n",
       "      <th>is_self</th>\n",
       "      <th>name</th>\n",
       "      <th>number_comments</th>\n",
       "      <th>permalink</th>\n",
       "      <th>score</th>\n",
       "      <th>text</th>\n",
       "      <th>subreddit</th>\n",
       "      <th>title</th>\n",
       "      <th>number_ups</th>\n",
       "      <th>upvote_ratio</th>\n",
       "      <th>url</th>\n",
       "      <th>domain</th>\n",
       "      <th>comments_by_id</th>\n",
       "    </tr>\n",
       "  </thead>\n",
       "  <tbody>\n",
       "    <tr>\n",
       "      <td>0</td>\n",
       "      <td>0</td>\n",
       "      <td>1392</td>\n",
       "      <td>fergienz</td>\n",
       "      <td>1.557962e+09</td>\n",
       "      <td>bp560o</td>\n",
       "      <td>True</td>\n",
       "      <td>t3_bp560o</td>\n",
       "      <td>1</td>\n",
       "      <td>/r/QuantifiedSelf/comments/bp560o/40_deep_slee...</td>\n",
       "      <td>3</td>\n",
       "      <td>I'm trying to find someone who is using Qualia...</td>\n",
       "      <td>QuantifiedSelf</td>\n",
       "      <td>40% Deep sleep score - Is it just me? Any Qual...</td>\n",
       "      <td>3</td>\n",
       "      <td>0.81</td>\n",
       "      <td>https://www.reddit.com/r/QuantifiedSelf/commen...</td>\n",
       "      <td>self.QuantifiedSelf</td>\n",
       "      <td>{'t1_enpejss': Comment(id='enpejss')}</td>\n",
       "    </tr>\n",
       "    <tr>\n",
       "      <td>1</td>\n",
       "      <td>1</td>\n",
       "      <td>1391</td>\n",
       "      <td>ran88dom99</td>\n",
       "      <td>1.557941e+09</td>\n",
       "      <td>bp0prn</td>\n",
       "      <td>True</td>\n",
       "      <td>t3_bp0prn</td>\n",
       "      <td>2</td>\n",
       "      <td>/r/QuantifiedSelf/comments/bp0prn/best_nutriti...</td>\n",
       "      <td>5</td>\n",
       "      <td>Most food tracking apps have the ability to re...</td>\n",
       "      <td>QuantifiedSelf</td>\n",
       "      <td>Best nutrition tracking apps for advanced QS</td>\n",
       "      <td>5</td>\n",
       "      <td>1.00</td>\n",
       "      <td>https://www.reddit.com/r/QuantifiedSelf/commen...</td>\n",
       "      <td>self.QuantifiedSelf</td>\n",
       "      <td>{'t1_enpg8qm': Comment(id='enpg8qm'), 't1_enpj...</td>\n",
       "    </tr>\n",
       "  </tbody>\n",
       "</table>\n",
       "</div>"
      ],
      "text/plain": [
       "   Unnamed: 0  index      author   created_utc      id  is_self       name  \\\n",
       "0           0   1392    fergienz  1.557962e+09  bp560o     True  t3_bp560o   \n",
       "1           1   1391  ran88dom99  1.557941e+09  bp0prn     True  t3_bp0prn   \n",
       "\n",
       "   number_comments                                          permalink  score  \\\n",
       "0                1  /r/QuantifiedSelf/comments/bp560o/40_deep_slee...      3   \n",
       "1                2  /r/QuantifiedSelf/comments/bp0prn/best_nutriti...      5   \n",
       "\n",
       "                                                text       subreddit  \\\n",
       "0  I'm trying to find someone who is using Qualia...  QuantifiedSelf   \n",
       "1  Most food tracking apps have the ability to re...  QuantifiedSelf   \n",
       "\n",
       "                                               title  number_ups  \\\n",
       "0  40% Deep sleep score - Is it just me? Any Qual...           3   \n",
       "1       Best nutrition tracking apps for advanced QS           5   \n",
       "\n",
       "   upvote_ratio                                                url  \\\n",
       "0          0.81  https://www.reddit.com/r/QuantifiedSelf/commen...   \n",
       "1          1.00  https://www.reddit.com/r/QuantifiedSelf/commen...   \n",
       "\n",
       "                domain                                     comments_by_id  \n",
       "0  self.QuantifiedSelf              {'t1_enpejss': Comment(id='enpejss')}  \n",
       "1  self.QuantifiedSelf  {'t1_enpg8qm': Comment(id='enpg8qm'), 't1_enpj...  "
      ]
     },
     "execution_count": 37,
     "metadata": {},
     "output_type": "execute_result"
    }
   ],
   "source": [
    "# reading in data\n",
    "df = pd.read_csv('./data/raw_combined_posts.csv')\n",
    "print('{} Rows & {} Columns'.format(df.shape[0],\n",
    "                                    df.shape[1]))\n",
    "df.head(2)"
   ]
  },
  {
   "cell_type": "code",
   "execution_count": 39,
   "metadata": {},
   "outputs": [
    {
     "data": {
      "text/plain": [
       "0    I'm trying to find someone who is using Qualia...\n",
       "1    Most food tracking apps have the ability to re...\n",
       "2    Why do you audio-video record your life? What ...\n",
       "3    This seems to be a major privacy concern for l...\n",
       "4    If you've done your introductory stats, you kn...\n",
       "Name: text, dtype: object"
      ]
     },
     "execution_count": 39,
     "metadata": {},
     "output_type": "execute_result"
    }
   ],
   "source": [
    "df['text'].head()"
   ]
  },
  {
   "cell_type": "code",
   "execution_count": 42,
   "metadata": {},
   "outputs": [
    {
     "name": "stdout",
     "output_type": "stream",
     "text": [
      "Null Values: 0\n",
      "Empty Strings: 0\n"
     ]
    }
   ],
   "source": [
    "# checking for null values\n",
    "print('Null Values: {}'.format(df['text'].isnull().sum()))\n",
    "# checking for empty strings\n",
    "print('Empty Strings: {}'.format(df['text'][df['text'] == \"\"].shape[0]))"
   ]
  },
  {
   "cell_type": "markdown",
   "metadata": {},
   "source": [
    "#### Basics of spaCy"
   ]
  },
  {
   "cell_type": "code",
   "execution_count": 55,
   "metadata": {},
   "outputs": [
    {
     "data": {
      "text/plain": [
       "\"I'm trying to find someone who is using Qualia Mind and tracking their sleep with an Oura ring. If y\""
      ]
     },
     "execution_count": 55,
     "metadata": {},
     "output_type": "execute_result"
    }
   ],
   "source": [
    "df['text'][0][:100]"
   ]
  },
  {
   "cell_type": "code",
   "execution_count": 56,
   "metadata": {},
   "outputs": [],
   "source": [
    "doc = nlp(df['text'][0][:100])"
   ]
  },
  {
   "cell_type": "code",
   "execution_count": 57,
   "metadata": {},
   "outputs": [
    {
     "name": "stdout",
     "output_type": "stream",
     "text": [
      "I\n",
      "'m\n",
      "trying\n",
      "to\n",
      "find\n",
      "someone\n",
      "who\n",
      "is\n",
      "using\n",
      "Qualia\n",
      "Mind\n",
      "and\n",
      "tracking\n",
      "their\n",
      "sleep\n",
      "with\n",
      "an\n",
      "Oura\n",
      "ring\n",
      ".\n",
      "If\n",
      "y\n"
     ]
    }
   ],
   "source": [
    "# iterating over tokens in \"Doc object\" / tokenizing\n",
    "for token in doc:\n",
    "    print(token)"
   ]
  },
  {
   "cell_type": "code",
   "execution_count": 58,
   "metadata": {},
   "outputs": [
    {
     "name": "stdout",
     "output_type": "stream",
     "text": [
      "Index:  [0, 1, 2, 3, 4, 5, 6, 7, 8, 9, 10, 11, 12, 13, 14, 15, 16, 17, 18, 19, 20, 21]\n",
      "Text:  ['I', \"'m\", 'trying', 'to', 'find', 'someone', 'who', 'is', 'using', 'Qualia', 'Mind', 'and', 'tracking', 'their', 'sleep', 'with', 'an', 'Oura', 'ring', '.', 'If', 'y']\n",
      "is_alpha: [True, False, True, True, True, True, True, True, True, True, True, True, True, True, True, True, True, True, True, False, True, True]\n",
      "is_punct: [False, False, False, False, False, False, False, False, False, False, False, False, False, False, False, False, False, False, False, True, False, False]\n",
      "like_num: [False, False, False, False, False, False, False, False, False, False, False, False, False, False, False, False, False, False, False, False, False, False]\n"
     ]
    }
   ],
   "source": [
    "print('Index: ', [token.i for token in doc])\n",
    "print('Text: ',[token.text for token in doc])\n",
    "print('is_alpha:',[token.is_alpha for token in doc])\n",
    "print('is_punct:',[token.is_punct for token in doc])\n",
    "print('like_num:',[token.like_num for token in doc])"
   ]
  },
  {
   "cell_type": "code",
   "execution_count": null,
   "metadata": {},
   "outputs": [],
   "source": []
  }
 ],
 "metadata": {
  "kernelspec": {
   "display_name": "Python 3",
   "language": "python",
   "name": "python3"
  },
  "language_info": {
   "codemirror_mode": {
    "name": "ipython",
    "version": 3
   },
   "file_extension": ".py",
   "mimetype": "text/x-python",
   "name": "python",
   "nbconvert_exporter": "python",
   "pygments_lexer": "ipython3",
   "version": "3.7.4"
  }
 },
 "nbformat": 4,
 "nbformat_minor": 2
}
